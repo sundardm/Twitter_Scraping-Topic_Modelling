{
 "cells": [
  {
   "cell_type": "markdown",
   "metadata": {},
   "source": []
  },
  {
   "cell_type": "code",
   "execution_count": null,
   "metadata": {},
   "outputs": [],
   "source": [
    "import pandas as pd\n",
    "import datetime\n",
    "import numpy as np\n",
    "import json\n",
    "import nltk\n",
    "import string\n",
    "from nltk.corpus import stopwords\n",
    "from nltk.tokenize import word_tokenize, RegexpTokenizer,TweetTokenizer\n",
    "\n",
    "import string\n",
    "import re\n",
    "\n",
    "import matplotlib.pyplot as plt\n",
    "%matplotlib inline\n",
    "\n",
    "from sklearn.model_selection import train_test_split, cross_val_score, GridSearchCV\n",
    "from sklearn.linear_model import LogisticRegression, SGDClassifier\n",
    "from sklearn.feature_extraction.text import CountVectorizer, TfidfVectorizer\n",
    "from sklearn.metrics import accuracy_score, confusion_matrix, precision_score, recall_score, f1_score\n",
    "from sklearn.model_selection import KFold,StratifiedKFold,RandomizedSearchCV, GridSearchCV\n",
    "from sklearn.pipeline import make_pipeline, Pipeline\n",
    "\n",
    "\n",
    "\n",
    "import pandas as pd\n",
    "import numpy as np\n",
    "from sklearn.preprocessing import StandardScaler, MinMaxScaler, RobustScaler\n",
    "from sklearn.ensemble import RandomForestClassifier, ExtraTreesClassifier\n",
    "from scipy.stats import uniform, randint as sp_randint\n",
    "from lightgbm import LGBMClassifier\n",
    "from xgboost import XGBClassifier\n",
    "import warnings\n",
    "warnings.filterwarnings('ignore')\n"
   ]
  },
  {
   "cell_type": "markdown",
   "metadata": {},
   "source": [
    "## Preprocessing and Cleaning"
   ]
  },
  {
   "cell_type": "code",
   "execution_count": null,
   "metadata": {},
   "outputs": [],
   "source": [
    "def merge(x):\n",
    "    for i in x:\n",
    "        clean = pd.read_json(\"189/\" + i +\"just_tweets.json\")\n",
    "\n",
    "        cleanext = pd.read_json(\"189/\" + i + \".json\")\n",
    "        clean.columns  = ['favorite_count', 'full_text']\n",
    "        \n",
    "        \n",
    "        bank = [i.encode('ascii', 'ignore').decode('ascii') for i in clean['full_text']]\n",
    "        clean['full_text'] = bank\n",
    "        clean['full_text'] = clean['full_text'].astype(str)\n",
    "\n",
    "        bank1 = [i.encode('ascii', 'ignore').decode('ascii') for i in cleanext['full_text']]\n",
    "        cleanext['full_text'] = bank1\n",
    "        cleanext['full_text'] = cleanext['full_text'].astype(str)\n",
    "        \n",
    "        aoc = pd.merge(clean,cleanext, on = 'full_text')\n",
    "        aoc_lda = pd.read_csv(\"189/\" + i + \".csv\")\n",
    "\n",
    "        \n",
    "        aoc_lda['tweet_orig'] = aoc['full_text']\n",
    "        aoc_lda[\"date\"] = aoc[\"created_at\"]\n",
    "        \n",
    "        aoc_lda.to_csv(\"try\" + i + \".csv\")\n",
    "        \n",
    "x = ['AOC','elonmusk','realDonaldTrump']\n",
    "merge(x)"
   ]
  },
  {
   "cell_type": "code",
   "execution_count": 2,
   "metadata": {},
   "outputs": [],
   "source": [
    "elon = pd.read_csv(\"tryelo.csv\")\n",
    "AOC = pd.read_csv(\"tryAOC.csv\")\n",
    "trump = pd.read_csv(\"tryrealDonaldTrump.csv\")\n",
    "elon_raw = elon['tweet_orig']\n",
    "AOC_raw = AOC['tweet_orig']\n",
    "trump_raw = trump['tweet_orig']"
   ]
  },
  {
   "cell_type": "code",
   "execution_count": 4,
   "metadata": {},
   "outputs": [],
   "source": [
    "\n",
    "def clean_text(tuk_text):\n",
    "    email_at = []\n",
    "    for i in tuk_text:\n",
    "        email_at.append((re.findall(r\"(\\@+[\\w_]+)\",i)))\n",
    "        email_at = [x for x in email_at if x != []]\n",
    "        email_at = [at.lower() for x in email_at for at in x]\n",
    "    \n",
    "    \n",
    "    hash1 = []\n",
    "    for i in tuk_text:\n",
    "        hash1.append((re.findall(r\"(\\#+[\\w_]+)\",i)))     #find all hashtags\n",
    "        hash1 = [x for x in hash1 if x != []]\n",
    "        hash1 = [hash.lower() for x in hash1 for hash in x]\n",
    "        \n",
    "        \n",
    "    tuk_ready_stem = []\n",
    "    from nltk.stem.snowball import SnowballStemmer\n",
    "\n",
    "    stem = SnowballStemmer(\"english\") \n",
    "\n",
    "    stopw = stopwords.words('english') + list(string.punctuation)  +[\"’\",\"”\",\"—\",\"“\"] + hash1 + email_at\n",
    "    for i in tuk_text:\n",
    "        tokens = [stop for stop in TweetTokenizer().tokenize(i.lower()) if stop not in stopw]\n",
    "        tokens = [w for w in tokens if w.isalpha()]\n",
    "        tokens = [w for w in tokens if re.findall(r\"(\\w{3})\",w) ]\n",
    "        #tokens = [stem.stem(w) for w in tokens]\n",
    "        review = ' '.join(tokens)\n",
    "        review = re.sub(r'((.)\\2{2,})', ' ', review)\n",
    "        tuk_ready_stem.append(review)\n",
    "    return(tuk_ready_stem)"
   ]
  },
  {
   "cell_type": "code",
   "execution_count": 5,
   "metadata": {},
   "outputs": [],
   "source": [
    "elon_clean = clean_text(elon_raw)\n",
    "AOC_clean = clean_text(AOC_raw)\n",
    "trump_clean = clean_text(trump_raw)\n",
    "\n",
    "elon[\"clean\"] = elon_clean\n",
    "AOC[\"clean\"] = AOC_clean\n",
    "trump[\"clean\"] = trump_clean"
   ]
  },
  {
   "cell_type": "code",
   "execution_count": 42,
   "metadata": {
    "scrolled": true
   },
   "outputs": [
    {
     "data": {
      "image/png": "[encoded data removed]",
      "text/plain": [
       "<Figure size 432x288 with 1 Axes>"
      ]
     },
     "metadata": {
      "needs_background": "light"
     },
     "output_type": "display_data"
    },
    {
     "data": {
      "image/png": "[encoded data removed]",
      "text/plain": [
       "<Figure size 432x288 with 1 Axes>"
      ]
     },
     "metadata": {
      "needs_background": "light"
     },
     "output_type": "display_data"
    },
    {
     "data": {
      "image/png": "[encoded data removed]",
      "text/plain": [
       "<Figure size 432x288 with 1 Axes>"
      ]
     },
     "metadata": {
      "needs_background": "light"
     },
     "output_type": "display_data"
    }
   ],
   "source": [
    "for h,i in enumerate([elon, AOC, trump]):\n",
    "    b = [\"Elon Musk Favorites Distribution\", \"AOC Favorites Distribution\", \"Trump Favorites Distribution\"]\n",
    "    i[\"favorite_count\"].hist(bins=25)\n",
    "    plt.title(b[h])\n",
    "    plt.show()"
   ]
  },
  {
   "cell_type": "markdown",
   "metadata": {},
   "source": [
    "## Feature Generation"
   ]
  },
  {
   "cell_type": "code",
   "execution_count": 6,
   "metadata": {},
   "outputs": [],
   "source": [
    "def weekhourbin():\n",
    "    x = [elon,trump,AOC]\n",
    "    for i in x:\n",
    "        weekday =[datetime.datetime.strptime(j, \"%m/%d/%Y %H:%M\").weekday() for j in i['date']]\n",
    "        i['weekday'] = weekday\n",
    "        \n",
    "        hour =  [0 if datetime.datetime.strptime(j, \"%m/%d/%Y %H:%M\").hour >= 0 \n",
    "         and datetime.datetime.strptime(j, \"%m/%d/%Y %H:%M\").hour <= 8 \n",
    "         else 1 if datetime.datetime.strptime(j, \"%m/%d/%Y %H:%M\").hour >= 9 \n",
    "         and datetime.datetime.strptime(j, \"%m/%d/%Y %H:%M\").hour <= 17 else 2 for j in i['date']]\n",
    "        i['hour'] = hour\n",
    "        \n",
    "    \n",
    "weekhourbin()"
   ]
  },
  {
   "cell_type": "code",
   "execution_count": 7,
   "metadata": {},
   "outputs": [],
   "source": [
    "elon = pd.get_dummies(elon, columns = ['weekday','hour'])\n",
    "AOC = pd.get_dummies(AOC, columns = ['weekday','hour'])\n",
    "trump = pd.get_dummies(trump, columns = ['weekday','hour'])"
   ]
  },
  {
   "cell_type": "code",
   "execution_count": null,
   "metadata": {},
   "outputs": [],
   "source": [
    "# length= int(len(elon)/3)\n",
    "elon_final = elon.sort_values('favorite_count')\n",
    "elon_final['fav_bin'] = 2\n",
    "elon_final['fav_bin'][0:length] = 0\n",
    "elon_final['fav_bin'][length:length*2] = 1\n",
    "\n",
    "length= int(len(AOC)/3)\n",
    "AOC_final = AOC.sort_values('favorite_count')\n",
    "AOC_final['fav_bin'] = 2\n",
    "AOC_final['fav_bin'][0:length] = 0\n",
    "AOC_final['fav_bin'][length:length*2] = 1\n",
    "\n",
    "length= int(len(trump)/3)\n",
    "trump_final = trump.sort_values('favorite_count')\n",
    "trump_final['fav_bin'] = 2\n",
    "trump_final['fav_bin'][0:length] = 0\n",
    "trump_final['fav_bin'][length:length*2] = 1\n",
    "\n"
   ]
  },
  {
   "cell_type": "code",
   "execution_count": 9,
   "metadata": {},
   "outputs": [],
   "source": [
    "elon_f =  elon_final.drop([\"Unnamed: 0\", \"tweet\", \"favorite_count\", \"tweet_orig\", \"date\"],axis = 1)\n",
    "AOC_f =  AOC_final.drop([\"Unnamed: 0\", \"tweet\", \"favorite_count\", \"tweet_orig\", \"date\"],axis = 1)\n",
    "trump_f =  trump_final.drop([\"Unnamed: 0\", \"tweet\", \"favorite_count\", \"tweet_orig\", \"date\"],axis = 1)"
   ]
  },
  {
   "cell_type": "markdown",
   "metadata": {},
   "source": [
    "## Implenting models"
   ]
  },
  {
   "cell_type": "code",
   "execution_count": 12,
   "metadata": {},
   "outputs": [],
   "source": [
    "def modelo(df):\n",
    "    scores = []\n",
    "    Xmain = df.drop(['fav_bin'],axis = 1)\n",
    "    y = df['fav_bin']\n",
    "    X_train_text,X_test_text,y_train,y_test=train_test_split(Xmain,\n",
    "                                              y,\n",
    "                                                train_size = 0.75,\n",
    "                                               stratify = y,\n",
    "                                              random_state=9)\n",
    "    vect = TfidfVectorizer(min_df=3,ngram_range=(1,2)).fit(X_train_text[\"clean\"])\n",
    "    X_train_vectorized = vect.transform(X_train_text[\"clean\"])\n",
    "    X_test_vectorized = vect.transform(X_test_text[\"clean\"])\n",
    "    \n",
    "    X_train_dtm= pd.concat([pd.DataFrame(X_train_vectorized.toarray()), X_train_text.drop([\"clean\"], axis = 1).reset_index(drop=True)], axis=1)\n",
    "    X_test_dtm = pd.concat([pd.DataFrame(X_test_vectorized.toarray()), X_test_text.drop([\"clean\"], axis = 1).reset_index(drop=True)], axis=1)\n",
    "    print(\"-\"*60)\n",
    "    print(\"Model 1: Logistic Regression\")\n",
    "    clf = [(\"Robust\",StandardScaler()),('Log',LogisticRegression())]  #Feature Scaling manual gridsearch yeilded 1 as best\n",
    "    piped = Pipeline(clf)\n",
    "    piped.fit(X_train_dtm,y_train)\n",
    "    pred = piped.predict(X_test_dtm)\n",
    "    scores.append(round(accuracy_score(y_test,pred)*100,2))\n",
    "    print(\"The accuracy score from Logistic Regression is, \", round(accuracy_score(y_test,pred)*100,2), \"%\")\n",
    "    \n",
    "    print(\"-\"*60)\n",
    "    print(\"Model 2: LightGBM\")\n",
    "    lg_clf = LGBMClassifier()\n",
    "    lg_cl = Pipeline([(\"Robust\",StandardScaler()),('LGB',lg_clf)])  #Feature Scaling and SVM classifier\n",
    "\n",
    "    params = { \"LGB__objective\" : [\"multiclass\"],   \n",
    "          \"LGB__num_class\" : [3],\n",
    "          \"LGB__n_estimator\": sp_randint(50,1000),\n",
    "          \"LGB__learning_rate\" : [0.1,0.12,0.13,0.09,0.15],\n",
    "          \"LGB__metric\":[\"softmax\",\"multi_logloss\"],\n",
    "         \"LGB__boosting_type\": ['dart'],\n",
    "         \"LGB__feature_fraction\":[0.75,0.8,0.85],\n",
    "         \"LGB__bagging_freq\": [1,0],\n",
    "         \"LGB__bagging_fraction\": [0.83,0.85,0.87],\n",
    "         \"LGB__max_drop\": sp_randint(5,50),\n",
    "         \"LGB__drop_rate\": [0.01,0.05,0.07],\n",
    "         \"LGB__max_depth\": sp_randint(1,20),\n",
    "         \"LGB__num_leaves\":sp_randint(5,40)} #param grid\n",
    "    trial = RandomizedSearchCV(lg_cl,param_distributions = params, n_iter = 200, scoring = \"accuracy\", cv = 10,verbose = 3, n_jobs = -1)\n",
    "    trial.fit(X_train_dtm,y_train) #Train model\n",
    "    print(\"The best 10 fold CV accuracy score  is, \", round(trial.best_score_*100,2),\"%\") #best accuracy\n",
    "    print(\"The best parameters are ,\", trial.best_params_) #best params\n",
    "    pred2 = trial.predict(X_test_dtm)\n",
    "    scores.append(round(accuracy_score(y_test,pred2)*100,2))\n",
    "    print(\"The accuracy score from LightGBM is, \", round(accuracy_score(y_test,pred2)*100,2), \"%\")\n",
    "    \n",
    "    print(\"-\"*60)\n",
    "    print(\"Model 3: XGBoost\")\n",
    "    pip = [(\"Robust\",StandardScaler()),(\"XG\",XGBClassifier())]\n",
    "    xg = Pipeline(pip)\n",
    "    parameters = {\n",
    "              'XG__objective':['multi:softmax'],\n",
    "              'XG__learning_rate': [0.01,0.02,0.03,0.05,0.07,0.1,0.15], \n",
    "              'XG__max_depth': [6,7,8,10,15],\n",
    "              'XG__min_child_weight': [1,2,3,5,7,11,20],\n",
    "              'XG__silent': [1],\n",
    "              'XG__subsample': [0.8,1,0.5],\n",
    "              'XG__colsample_bytree': [0.7,1,0.5],\n",
    "              'XG__n_estimators': sp_randint(15,500), \n",
    "              'XG__missing':[-999],\n",
    "              'XG__seed': [1337],\n",
    "             'XG__gamma':[0,5,10,15],\n",
    "             'XG__num_class':[3]} #param grid\n",
    "    gg = RandomizedSearchCV(xg, parameters,n_iter = 200,  \n",
    "                   cv=5, \n",
    "                   scoring='accuracy',\n",
    "                   verbose=2, refit=True, n_jobs = -1)\n",
    "    gg.fit(X_train_dtm,y_train) #train model\n",
    "    print(\"The best 10 fold CV accuracy score  is, \", round(gg.best_score_*100,2),\"%\") #best accuracy\n",
    "    print(\"The best parameters are ,\", gg.best_params_) #best params\n",
    "    pred3 = gg.predict(X_test_dtm)\n",
    "    scores.append(round(accuracy_score(y_test,pred3)*100,2))\n",
    "    print(\"The accuracy score from XGBoost is, \", round(accuracy_score(y_test,pred3)*100,2), \"%\")\n",
    "    \n",
    "    print(\"-\"*60)\n",
    "    print(\"Model 4: Random Forests\")\n",
    "    clf = [(\"Robust\",StandardScaler()),(\"RF\",RandomForestClassifier())] #Feature Scaling and SVM classifier\n",
    "    rf = Pipeline(clf)\n",
    "    param_grid = {\n",
    "    'RF__max_depth': sp_randint(3,80),\n",
    "    'RF__max_features': [\"auto\"],\n",
    "    'RF__min_samples_leaf': sp_randint(1,20),\n",
    "    'RF__min_samples_split': sp_randint(2,20),\n",
    "    'RF__n_estimators': sp_randint(20,500)} #param grid\n",
    "    trial3 = RandomizedSearchCV(rf,param_distributions = param_grid, n_iter = 400, scoring = \"accuracy\", cv = 10,verbose = 3, n_jobs = -1)\n",
    "    trial3.fit(X_train_dtm,y_train)\n",
    "    print(\"The best 10 fold CV accuracy score  is, \", round(trial3.best_score_*100,2),\"%\") #best accuracy\n",
    "    print(\"The best parameters are ,\", trial3.best_params_) #best params\n",
    "    pred4 = trial3.predict(X_test_dtm)\n",
    "    scores.append(round(accuracy_score(y_test,pred4)*100,2))\n",
    "    print(\"The accuracy score from XGBoost is, \", round(accuracy_score(y_test,pred4)*100,2), \"%\")\n",
    "    \n",
    "    return(scores)"
   ]
  },
  {
   "cell_type": "code",
   "execution_count": 13,
   "metadata": {},
   "outputs": [
    {
     "name": "stdout",
     "output_type": "stream",
     "text": [
      "------------------------------------------------------------\n",
      "Model 1: Logistic Regression\n",
      "The accuracy score from Logistic Regression is,  56.76 %\n",
      "------------------------------------------------------------\n",
      "Model 2: LightGBM\n",
      "Fitting 10 folds for each of 200 candidates, totalling 2000 fits\n"
     ]
    },
    {
     "name": "stderr",
     "output_type": "stream",
     "text": [
      "[Parallel(n_jobs=-1)]: Using backend LokyBackend with 12 concurrent workers.\n",
      "[Parallel(n_jobs=-1)]: Done   8 tasks      | elapsed:    2.6s\n",
      "[Parallel(n_jobs=-1)]: Done 117 tasks      | elapsed:    3.6s\n",
      "[Parallel(n_jobs=-1)]: Done 437 tasks      | elapsed:    6.2s\n",
      "[Parallel(n_jobs=-1)]: Done 885 tasks      | elapsed:   10.0s\n",
      "[Parallel(n_jobs=-1)]: Done 1461 tasks      | elapsed:   14.3s\n",
      "[Parallel(n_jobs=-1)]: Done 1977 out of 2000 | elapsed:   18.3s remaining:    0.1s\n",
      "[Parallel(n_jobs=-1)]: Done 2000 out of 2000 | elapsed:   18.4s finished\n"
     ]
    },
    {
     "name": "stdout",
     "output_type": "stream",
     "text": [
      "The best 10 fold CV accuracy score  is,  52.73 %\n",
      "The best parameters are , {'LGB__bagging_fraction': 0.83, 'LGB__bagging_freq': 1, 'LGB__boosting_type': 'dart', 'LGB__drop_rate': 0.07, 'LGB__feature_fraction': 0.85, 'LGB__learning_rate': 0.09, 'LGB__max_depth': 15, 'LGB__max_drop': 30, 'LGB__metric': 'softmax', 'LGB__n_estimator': 606, 'LGB__num_class': 3, 'LGB__num_leaves': 18, 'LGB__objective': 'multiclass'}\n",
      "The accuracy score from LightGBM is,  35.14 %\n",
      "------------------------------------------------------------\n",
      "Model 3: XGBoost\n",
      "Fitting 5 folds for each of 200 candidates, totalling 1000 fits\n"
     ]
    },
    {
     "name": "stderr",
     "output_type": "stream",
     "text": [
      "[Parallel(n_jobs=-1)]: Using backend LokyBackend with 12 concurrent workers.\n",
      "[Parallel(n_jobs=-1)]: Done  17 tasks      | elapsed:    4.1s\n",
      "[Parallel(n_jobs=-1)]: Done 138 tasks      | elapsed:   16.9s\n",
      "[Parallel(n_jobs=-1)]: Done 341 tasks      | elapsed:   35.8s\n",
      "[Parallel(n_jobs=-1)]: Done 624 tasks      | elapsed:  1.1min\n",
      "[Parallel(n_jobs=-1)]: Done 1000 out of 1000 | elapsed:  1.9min finished\n"
     ]
    },
    {
     "name": "stdout",
     "output_type": "stream",
     "text": [
      "The best 10 fold CV accuracy score  is,  56.36 %\n",
      "The best parameters are , {'XG__colsample_bytree': 1, 'XG__gamma': 0, 'XG__learning_rate': 0.02, 'XG__max_depth': 15, 'XG__min_child_weight': 2, 'XG__missing': -999, 'XG__n_estimators': 59, 'XG__num_class': 3, 'XG__objective': 'multi:softmax', 'XG__seed': 1337, 'XG__silent': 1, 'XG__subsample': 1}\n",
      "The accuracy score from XGBoost is,  37.84 %\n",
      "------------------------------------------------------------\n",
      "Model 4: Random Forests\n",
      "Fitting 10 folds for each of 400 candidates, totalling 4000 fits\n"
     ]
    },
    {
     "name": "stderr",
     "output_type": "stream",
     "text": [
      "[Parallel(n_jobs=-1)]: Using backend LokyBackend with 12 concurrent workers.\n",
      "[Parallel(n_jobs=-1)]: Done   8 tasks      | elapsed:    1.4s\n",
      "[Parallel(n_jobs=-1)]: Done 104 tasks      | elapsed:    9.6s\n",
      "[Parallel(n_jobs=-1)]: Done 264 tasks      | elapsed:   17.4s\n",
      "[Parallel(n_jobs=-1)]: Done 488 tasks      | elapsed:   26.9s\n",
      "[Parallel(n_jobs=-1)]: Done 776 tasks      | elapsed:   39.1s\n",
      "[Parallel(n_jobs=-1)]: Done 1128 tasks      | elapsed:   54.2s\n",
      "[Parallel(n_jobs=-1)]: Done 1544 tasks      | elapsed:  1.2min\n",
      "[Parallel(n_jobs=-1)]: Done 2024 tasks      | elapsed:  1.5min\n",
      "[Parallel(n_jobs=-1)]: Done 2568 tasks      | elapsed:  1.9min\n",
      "[Parallel(n_jobs=-1)]: Done 3176 tasks      | elapsed:  2.4min\n",
      "[Parallel(n_jobs=-1)]: Done 3848 tasks      | elapsed:  2.9min\n",
      "[Parallel(n_jobs=-1)]: Done 4000 out of 4000 | elapsed:  3.0min finished\n"
     ]
    },
    {
     "name": "stdout",
     "output_type": "stream",
     "text": [
      "The best 10 fold CV accuracy score  is,  54.55 %\n",
      "The best parameters are , {'RF__max_depth': 77, 'RF__max_features': 'auto', 'RF__min_samples_leaf': 16, 'RF__min_samples_split': 6, 'RF__n_estimators': 344}\n",
      "The accuracy score from XGBoost is,  40.54 %\n"
     ]
    }
   ],
   "source": [
    "elon_model = modelo(elon_f)"
   ]
  },
  {
   "cell_type": "code",
   "execution_count": 15,
   "metadata": {
    "scrolled": true
   },
   "outputs": [
    {
     "name": "stdout",
     "output_type": "stream",
     "text": [
      "------------------------------------------------------------\n",
      "Model 1: Logistic Regression\n",
      "The accuracy score from Logistic Regression is,  50.0 %\n",
      "------------------------------------------------------------\n",
      "Model 2: LightGBM\n",
      "Fitting 10 folds for each of 200 candidates, totalling 2000 fits\n"
     ]
    },
    {
     "name": "stderr",
     "output_type": "stream",
     "text": [
      "[Parallel(n_jobs=-1)]: Using backend LokyBackend with 12 concurrent workers.\n",
      "[Parallel(n_jobs=-1)]: Done   8 tasks      | elapsed:    2.5s\n",
      "[Parallel(n_jobs=-1)]: Done 173 tasks      | elapsed:    3.6s\n",
      "[Parallel(n_jobs=-1)]: Done 813 tasks      | elapsed:    7.3s\n",
      "[Parallel(n_jobs=-1)]: Done 1709 tasks      | elapsed:   12.8s\n",
      "[Parallel(n_jobs=-1)]: Done 1977 out of 2000 | elapsed:   14.2s remaining:    0.1s\n",
      "[Parallel(n_jobs=-1)]: Done 2000 out of 2000 | elapsed:   14.3s finished\n",
      "[Parallel(n_jobs=-1)]: Using backend LokyBackend with 12 concurrent workers.\n"
     ]
    },
    {
     "name": "stdout",
     "output_type": "stream",
     "text": [
      "The best 10 fold CV accuracy score  is,  47.92 %\n",
      "The best parameters are , {'LGB__bagging_fraction': 0.87, 'LGB__bagging_freq': 0, 'LGB__boosting_type': 'dart', 'LGB__drop_rate': 0.01, 'LGB__feature_fraction': 0.8, 'LGB__learning_rate': 0.15, 'LGB__max_depth': 17, 'LGB__max_drop': 30, 'LGB__metric': 'multi_logloss', 'LGB__n_estimator': 625, 'LGB__num_class': 3, 'LGB__num_leaves': 38, 'LGB__objective': 'multiclass'}\n",
      "The accuracy score from LightGBM is,  31.25 %\n",
      "------------------------------------------------------------\n",
      "Model 3: XGBoost\n",
      "Fitting 5 folds for each of 200 candidates, totalling 1000 fits\n"
     ]
    },
    {
     "name": "stderr",
     "output_type": "stream",
     "text": [
      "[Parallel(n_jobs=-1)]: Done  17 tasks      | elapsed:    3.8s\n",
      "[Parallel(n_jobs=-1)]: Done 138 tasks      | elapsed:   17.1s\n",
      "[Parallel(n_jobs=-1)]: Done 341 tasks      | elapsed:   38.7s\n",
      "[Parallel(n_jobs=-1)]: Done 624 tasks      | elapsed:  1.1min\n",
      "[Parallel(n_jobs=-1)]: Done 1000 out of 1000 | elapsed:  1.8min finished\n"
     ]
    },
    {
     "name": "stdout",
     "output_type": "stream",
     "text": [
      "The best 10 fold CV accuracy score  is,  60.42 %\n",
      "The best parameters are , {'XG__colsample_bytree': 0.5, 'XG__gamma': 0, 'XG__learning_rate': 0.03, 'XG__max_depth': 7, 'XG__min_child_weight': 3, 'XG__missing': -999, 'XG__n_estimators': 322, 'XG__num_class': 3, 'XG__objective': 'multi:softmax', 'XG__seed': 1337, 'XG__silent': 1, 'XG__subsample': 1}\n",
      "The accuracy score from XGBoost is,  31.25 %\n",
      "------------------------------------------------------------\n",
      "Model 4: Random Forests\n",
      "Fitting 10 folds for each of 400 candidates, totalling 4000 fits\n"
     ]
    },
    {
     "name": "stderr",
     "output_type": "stream",
     "text": [
      "[Parallel(n_jobs=-1)]: Using backend LokyBackend with 12 concurrent workers.\n",
      "[Parallel(n_jobs=-1)]: Done   8 tasks      | elapsed:    0.7s\n",
      "[Parallel(n_jobs=-1)]: Done 104 tasks      | elapsed:    8.8s\n",
      "[Parallel(n_jobs=-1)]: Done 264 tasks      | elapsed:   16.1s\n",
      "[Parallel(n_jobs=-1)]: Done 488 tasks      | elapsed:   26.4s\n",
      "[Parallel(n_jobs=-1)]: Done 776 tasks      | elapsed:   37.5s\n",
      "[Parallel(n_jobs=-1)]: Done 1128 tasks      | elapsed:   56.7s\n",
      "[Parallel(n_jobs=-1)]: Done 1544 tasks      | elapsed:  1.3min\n",
      "[Parallel(n_jobs=-1)]: Done 2024 tasks      | elapsed:  1.6min\n",
      "[Parallel(n_jobs=-1)]: Done 2568 tasks      | elapsed:  2.0min\n",
      "[Parallel(n_jobs=-1)]: Done 3176 tasks      | elapsed:  2.4min\n",
      "[Parallel(n_jobs=-1)]: Done 3848 tasks      | elapsed:  2.8min\n",
      "[Parallel(n_jobs=-1)]: Done 4000 out of 4000 | elapsed:  2.9min finished\n"
     ]
    },
    {
     "name": "stdout",
     "output_type": "stream",
     "text": [
      "The best 10 fold CV accuracy score  is,  58.33 %\n",
      "The best parameters are , {'RF__max_depth': 66, 'RF__max_features': 'auto', 'RF__min_samples_leaf': 1, 'RF__min_samples_split': 14, 'RF__n_estimators': 88}\n",
      "The accuracy score from XGBoost is,  37.5 %\n"
     ]
    }
   ],
   "source": [
    "AOC_model = modelo(AOC_f)"
   ]
  },
  {
   "cell_type": "code",
   "execution_count": 16,
   "metadata": {},
   "outputs": [
    {
     "name": "stdout",
     "output_type": "stream",
     "text": [
      "------------------------------------------------------------\n",
      "Model 1: Logistic Regression\n",
      "The accuracy score from Logistic Regression is,  34.38 %\n",
      "------------------------------------------------------------\n",
      "Model 2: LightGBM\n",
      "Fitting 10 folds for each of 200 candidates, totalling 2000 fits\n"
     ]
    },
    {
     "name": "stderr",
     "output_type": "stream",
     "text": [
      "[Parallel(n_jobs=-1)]: Using backend LokyBackend with 12 concurrent workers.\n",
      "[Parallel(n_jobs=-1)]: Done   8 tasks      | elapsed:    0.1s\n",
      "[Parallel(n_jobs=-1)]: Done 184 tasks      | elapsed:    1.4s\n",
      "[Parallel(n_jobs=-1)]: Done 504 tasks      | elapsed:    3.7s\n",
      "[Parallel(n_jobs=-1)]: Done 952 tasks      | elapsed:    6.8s\n",
      "[Parallel(n_jobs=-1)]: Done 1528 tasks      | elapsed:   10.8s\n",
      "[Parallel(n_jobs=-1)]: Done 2000 out of 2000 | elapsed:   14.2s finished\n",
      "[Parallel(n_jobs=-1)]: Using backend LokyBackend with 12 concurrent workers.\n"
     ]
    },
    {
     "name": "stdout",
     "output_type": "stream",
     "text": [
      "The best 10 fold CV accuracy score  is,  26.32 %\n",
      "The best parameters are , {'LGB__bagging_fraction': 0.87, 'LGB__bagging_freq': 1, 'LGB__boosting_type': 'dart', 'LGB__drop_rate': 0.05, 'LGB__feature_fraction': 0.85, 'LGB__learning_rate': 0.1, 'LGB__max_depth': 11, 'LGB__max_drop': 40, 'LGB__metric': 'softmax', 'LGB__n_estimator': 505, 'LGB__num_class': 3, 'LGB__num_leaves': 29, 'LGB__objective': 'multiclass'}\n",
      "The accuracy score from LightGBM is,  31.25 %\n",
      "------------------------------------------------------------\n",
      "Model 3: XGBoost\n",
      "Fitting 5 folds for each of 200 candidates, totalling 1000 fits\n"
     ]
    },
    {
     "name": "stderr",
     "output_type": "stream",
     "text": [
      "[Parallel(n_jobs=-1)]: Done  17 tasks      | elapsed:    5.9s\n",
      "[Parallel(n_jobs=-1)]: Done 138 tasks      | elapsed:   31.9s\n",
      "[Parallel(n_jobs=-1)]: Done 341 tasks      | elapsed:  1.3min\n",
      "[Parallel(n_jobs=-1)]: Done 624 tasks      | elapsed:  2.1min\n",
      "[Parallel(n_jobs=-1)]: Done 1000 out of 1000 | elapsed:  3.1min finished\n"
     ]
    },
    {
     "name": "stdout",
     "output_type": "stream",
     "text": [
      "The best 10 fold CV accuracy score  is,  40.0 %\n",
      "The best parameters are , {'XG__colsample_bytree': 1, 'XG__gamma': 5, 'XG__learning_rate': 0.02, 'XG__max_depth': 7, 'XG__min_child_weight': 2, 'XG__missing': -999, 'XG__n_estimators': 209, 'XG__num_class': 3, 'XG__objective': 'multi:softmax', 'XG__seed': 1337, 'XG__silent': 1, 'XG__subsample': 0.8}\n",
      "The accuracy score from XGBoost is,  21.88 %\n",
      "------------------------------------------------------------\n",
      "Model 4: Random Forests\n",
      "Fitting 10 folds for each of 400 candidates, totalling 4000 fits\n"
     ]
    },
    {
     "name": "stderr",
     "output_type": "stream",
     "text": [
      "[Parallel(n_jobs=-1)]: Using backend LokyBackend with 12 concurrent workers.\n",
      "[Parallel(n_jobs=-1)]: Done   8 tasks      | elapsed:    0.4s\n",
      "[Parallel(n_jobs=-1)]: Done 104 tasks      | elapsed:    5.1s\n",
      "[Parallel(n_jobs=-1)]: Done 264 tasks      | elapsed:   11.8s\n",
      "[Parallel(n_jobs=-1)]: Done 488 tasks      | elapsed:   22.9s\n",
      "[Parallel(n_jobs=-1)]: Done 776 tasks      | elapsed:   35.2s\n",
      "[Parallel(n_jobs=-1)]: Done 1128 tasks      | elapsed:   50.5s\n",
      "[Parallel(n_jobs=-1)]: Done 1544 tasks      | elapsed:  1.1min\n",
      "[Parallel(n_jobs=-1)]: Done 2024 tasks      | elapsed:  1.6min\n",
      "[Parallel(n_jobs=-1)]: Done 2568 tasks      | elapsed:  2.0min\n",
      "[Parallel(n_jobs=-1)]: Done 3176 tasks      | elapsed:  2.4min\n",
      "[Parallel(n_jobs=-1)]: Done 3848 tasks      | elapsed:  2.9min\n",
      "[Parallel(n_jobs=-1)]: Done 4000 out of 4000 | elapsed:  2.9min finished\n"
     ]
    },
    {
     "name": "stdout",
     "output_type": "stream",
     "text": [
      "The best 10 fold CV accuracy score  is,  34.74 %\n",
      "The best parameters are , {'RF__max_depth': 21, 'RF__max_features': 'auto', 'RF__min_samples_leaf': 2, 'RF__min_samples_split': 19, 'RF__n_estimators': 87}\n",
      "The accuracy score from XGBoost is,  31.25 %\n"
     ]
    }
   ],
   "source": [
    "trump_model = modelo(trump_f)"
   ]
  },
  {
   "cell_type": "code",
   "execution_count": 20,
   "metadata": {},
   "outputs": [],
   "source": [
    "summary = pd.DataFrame({\"Elon Musk\": elon_model,\n",
    "                       \"AOC\": AOC_model,\n",
    "                       \"Trump\": trump_model})\n",
    "#summary.index[\"Logistic Regression\", \"LightGBM\", \"XGBoost\", \"Random Forests\"]"
   ]
  },
  {
   "cell_type": "code",
   "execution_count": 23,
   "metadata": {},
   "outputs": [],
   "source": [
    "summary.index = [\"Logistic Regression\", \"LightGBM\", \"XGBoost\", \"Random Forests\"]"
   ]
  },
  {
   "cell_type": "code",
   "execution_count": 24,
   "metadata": {},
   "outputs": [
    {
     "data": {
      "text/html": [
       "<div>\n",
       "<style scoped>\n",
       "    .dataframe tbody tr th:only-of-type {\n",
       "        vertical-align: middle;\n",
       "    }\n",
       "\n",
       "    .dataframe tbody tr th {\n",
       "        vertical-align: top;\n",
       "    }\n",
       "\n",
       "    .dataframe thead th {\n",
       "        text-align: right;\n",
       "    }\n",
       "</style>\n",
       "<table border=\"1\" class=\"dataframe\">\n",
       "  <thead>\n",
       "    <tr style=\"text-align: right;\">\n",
       "      <th></th>\n",
       "      <th>Elon Musk</th>\n",
       "      <th>AOC</th>\n",
       "      <th>Trump</th>\n",
       "    </tr>\n",
       "  </thead>\n",
       "  <tbody>\n",
       "    <tr>\n",
       "      <th>Logistic Regression</th>\n",
       "      <td>56.76</td>\n",
       "      <td>50.00</td>\n",
       "      <td>34.38</td>\n",
       "    </tr>\n",
       "    <tr>\n",
       "      <th>LightGBM</th>\n",
       "      <td>35.14</td>\n",
       "      <td>31.25</td>\n",
       "      <td>31.25</td>\n",
       "    </tr>\n",
       "    <tr>\n",
       "      <th>XGBoost</th>\n",
       "      <td>37.84</td>\n",
       "      <td>31.25</td>\n",
       "      <td>21.88</td>\n",
       "    </tr>\n",
       "    <tr>\n",
       "      <th>Random Forests</th>\n",
       "      <td>40.54</td>\n",
       "      <td>37.50</td>\n",
       "      <td>31.25</td>\n",
       "    </tr>\n",
       "  </tbody>\n",
       "</table>\n",
       "</div>"
      ],
      "text/plain": [
       "                     Elon Musk    AOC  Trump\n",
       "Logistic Regression      56.76  50.00  34.38\n",
       "LightGBM                 35.14  31.25  31.25\n",
       "XGBoost                  37.84  31.25  21.88\n",
       "Random Forests           40.54  37.50  31.25"
      ]
     },
     "execution_count": 24,
     "metadata": {},
     "output_type": "execute_result"
    }
   ],
   "source": [
    "summary"
   ]
  }
 ],
 "metadata": {
  "kernelspec": {
   "display_name": "Python 3",
   "language": "python",
   "name": "python3"
  },
  "language_info": {
   "codemirror_mode": {
    "name": "ipython",
    "version": 3
   },
   "file_extension": ".py",
   "mimetype": "text/x-python",
   "name": "python",
   "nbconvert_exporter": "python",
   "pygments_lexer": "ipython3",
   "version": "3.6.7"
  }
 },
 "nbformat": 4,
 "nbformat_minor": 2
}
